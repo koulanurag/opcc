{
 "cells": [
  {
   "cell_type": "code",
   "execution_count": null,
   "metadata": {
    "collapsed": true
   },
   "outputs": [],
   "source": [
    "import opcc\n",
    "import numpy as np\n",
    "from sklearn import metrics\n",
    "\n",
    "env_name = 'HalfCheetah-v2'\n",
    "dataset_name = 'random'\n",
    "\n",
    "# ########################################################\n",
    "# Policy Comparison Queries (PCQ) (Section : 3.1 in paper)\n",
    "# ########################################################\n",
    "# Queries are dictionaries with policies as keys and\n",
    "# corresponding queries as values.\n",
    "queries = opcc.get_queries(env_name)\n",
    "\n",
    "\n",
    "# ########################################################\n",
    "# Following is a random answer predictor for a query\n",
    "# ########################################################\n",
    "def random_predictor(obs_a, obs_b, action_a, action_b,\n",
    "                     policy_a, policy_b, horizon):\n",
    "    answer = np.random.randint(low=0, high=2, size=len(obs_a)).tolist()\n",
    "    confidence = np.random.rand(len(obs_a)).tolist()\n",
    "    return answer, confidence\n",
    "# ########################################################\n",
    "# Query Iterator\n",
    "# ########################################################\n",
    "targets = []\n",
    "predictions = []\n",
    "confidences = []\n",
    "# Batch iteration through Queries :\n",
    "for (policy_a_id, policy_b_id), query_batch in queries.items():\n",
    "    # retrieve policies\n",
    "    policy_a, _ = opcc.get_policy(*policy_a_id)\n",
    "    policy_b, _ = opcc.get_policy(*policy_b_id)\n",
    "    # query-a\n",
    "    obs_a = query_batch['obs_a']\n",
    "    action_a = query_batch['action_a']\n",
    "    # query-b\n",
    "    obs_b = query_batch['obs_b']\n",
    "    action_b = query_batch['action_b']\n",
    "    # horizon for policy evaluation\n",
    "    horizon = query_batch['horizon']\n",
    "    # ground truth binary vector:\n",
    "    # (Q(obs_a, action_a, policy_a, horizon)\n",
    "    # <  Q(obs_b, action_b, policy_b, horizon))\n",
    "    target = query_batch['target'].tolist()\n",
    "    targets += target\n",
    "    # Let's make predictions for the given queries.\n",
    "    # One can use any mechanism to predict the corresponding\n",
    "    # answer to queries, and we simply use a random predictor\n",
    "    # over here for demonstration purposes\n",
    "    p, c = random_predictor(obs_a, obs_b, action_a, action_b,\n",
    "                            policy_a, policy_b, horizon)\n",
    "    predictions += p\n",
    "    confidences += c"
   ]
  }
 ],
 "metadata": {
  "kernelspec": {
   "display_name": "Python 3",
   "language": "python",
   "name": "python3"
  },
  "language_info": {
   "codemirror_mode": {
    "name": "ipython",
    "version": 2
   },
   "file_extension": ".py",
   "mimetype": "text/x-python",
   "name": "python",
   "nbconvert_exporter": "python",
   "pygments_lexer": "ipython2",
   "version": "2.7.6"
  }
 },
 "nbformat": 4,
 "nbformat_minor": 0
}
